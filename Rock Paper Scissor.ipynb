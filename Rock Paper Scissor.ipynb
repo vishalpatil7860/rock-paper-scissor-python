{
 "cells": [
  {
   "cell_type": "markdown",
   "metadata": {
    "id": "jJPiK2SY27Gs"
   },
   "source": [
    "# **Project** : Rock, Paper, Scissor\n",
    "Aim: Write a Python program to develop a Rock, Papers and Scissors game to be played against a computer.*italicized text*"
   ]
  },
  {
   "cell_type": "code",
   "execution_count": 1,
   "metadata": {
    "id": "1qgq1wrdUaM_"
   },
   "outputs": [],
   "source": [
    "#importing random library\n",
    "import random"
   ]
  },
  {
   "cell_type": "code",
   "execution_count": 2,
   "metadata": {
    "colab": {
     "base_uri": "https://localhost:8080/"
    },
    "id": "zNQ1iTFW3Bgp",
    "outputId": "e4009bcd-f2c2-4b8a-97f8-1b23e1ed3331"
   },
   "outputs": [
    {
     "name": "stdout",
     "output_type": "stream",
     "text": [
      "Enter your move: rock\n",
      "Your move:  rock\n",
      "Computer's move:  rock\n",
      "Result: Tie!\n",
      "\n",
      "\n",
      "Enter your move: rock\n",
      "Your move:  rock\n",
      "Computer's move:  scissor\n",
      "Result: You Win!\n",
      "\n",
      "Enter your move: scissor\n",
      "Your move:  scissor\n",
      "Computer's move:  scissor\n",
      "Result: Tie!\n",
      "\n",
      "\n",
      "Enter your move: paper\n",
      "Your move:  paper\n",
      "Computer's move:  rock\n",
      "Result: You Win!\n",
      "\n",
      "Enter your move: q\n",
      "Thanks for playing.\n"
     ]
    }
   ],
   "source": [
    "#creating list to include elements of the game\n",
    "dataset = ['rock', 'paper', 'scissor']\n",
    "flag = 'x'\n",
    "\n",
    "#start of the game\n",
    "while 'q' or 'Q':\n",
    "  inp = input(\"Enter your move: \")\n",
    "  comp = random.choice(dataset)\n",
    "    \n",
    "  #converting input from user to lower case to compare with the list  \n",
    "  inp = inp.lower()\n",
    "    \n",
    "  if inp == comp:\n",
    "    flag = 't'\n",
    "\n",
    "  if inp == 'Q':\n",
    "    flag = 'q'\n",
    "    break;\n",
    "\n",
    "  elif inp == 'rock' and comp == 'scissor':\n",
    "    flag = 'i'\n",
    "\n",
    "  elif inp == 'rock' and comp == 'paper':\n",
    "   flag = 'c'\n",
    "\n",
    "  elif inp == 'paper' and comp == 'scissor':\n",
    "    flag = 'c'\n",
    "\n",
    "  elif inp == 'paper' and comp == 'rock':\n",
    "    flag = 'i'\n",
    "\n",
    "  elif inp == 'scissor' and comp == 'rock':\n",
    "    flag = 'c'\n",
    "\n",
    "  elif inp == 'scissor' and comp == 'paper':\n",
    "    flag = 'i'\n",
    "\n",
    "  elif inp =='q':\n",
    "    print(\"Thanks for playing.\")\n",
    "    break\n",
    "\n",
    "\n",
    "  print(\"Your move: \",inp)\n",
    "  print(\"Computer's move: \",comp)\n",
    "\n",
    "  if flag == 't':\n",
    "    print(\"Result: Tie!\\n\")\n",
    "    print()\n",
    "\n",
    "\n",
    "  elif flag == 'i':\n",
    "    print(\"Result: You Win!\\n\")\n",
    "\n",
    "  elif flag == 'c':\n",
    "    print(\"Result: You Lose!\\n\")\n",
    "\n"
   ]
  },
  {
   "cell_type": "markdown",
   "metadata": {
    "id": "ESqjtna83YXx"
   },
   "source": [
    "### Logic"
   ]
  },
  {
   "cell_type": "code",
   "execution_count": 5,
   "metadata": {
    "id": "OzPbEFmx3Iqt"
   },
   "outputs": [],
   "source": []
  },
  {
   "cell_type": "code",
   "execution_count": null,
   "metadata": {
    "id": "zOUS0rUx5SQl"
   },
   "outputs": [],
   "source": []
  }
 ],
 "metadata": {
  "colab": {
   "collapsed_sections": [],
   "name": "Fundamentals of Pyhton | AINE VIP.ipynb",
   "provenance": []
  },
  "kernelspec": {
   "display_name": "Python 3 (ipykernel)",
   "language": "python",
   "name": "python3"
  },
  "language_info": {
   "codemirror_mode": {
    "name": "ipython",
    "version": 3
   },
   "file_extension": ".py",
   "mimetype": "text/x-python",
   "name": "python",
   "nbconvert_exporter": "python",
   "pygments_lexer": "ipython3",
   "version": "3.8.3"
  }
 },
 "nbformat": 4,
 "nbformat_minor": 1
}
